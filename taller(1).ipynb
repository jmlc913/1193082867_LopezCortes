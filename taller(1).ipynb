{
 "cells": [
  {
   "cell_type": "raw",
   "metadata": {},
   "source": [
    "1. Sin utilizar el comando abs, escribir un programa que calcule e imprima el valor absoluto de cualquier número (sea\n",
    "entero o decimal)."
   ]
  },
  {
   "cell_type": "code",
   "execution_count": 1,
   "metadata": {},
   "outputs": [
    {
     "name": "stdout",
     "output_type": "stream",
     "text": [
      "ingrese valor: 5\n",
      "el valor absoluto es: 5.0\n"
     ]
    }
   ],
   "source": [
    "n=float(input(\"ingrese valor: \"))\n",
    "if n<0:\n",
    "\tn=n*-1\n",
    "print(\"el valor absoluto es: \"+str(n))"
   ]
  },
  {
   "cell_type": "raw",
   "metadata": {},
   "source": [
    "2. Leer dos números enteros y determinar si la magnitud de la diferencia entre los dos es un número primo."
   ]
  },
  {
   "cell_type": "code",
   "execution_count": 6,
   "metadata": {},
   "outputs": [
    {
     "name": "stdout",
     "output_type": "stream",
     "text": [
      "ingrese primer numero: 5\n",
      "ingrese segundo numero: 2\n",
      "primer - segundo = 3\n",
      "es primo\n"
     ]
    }
   ],
   "source": [
    "def primo(n):\n",
    "    if n==1:\n",
    "        return True\n",
    "    if n<1:\n",
    "        return False\n",
    "    p=True\n",
    "    for i in range (2,n):\n",
    "        if n%i==0:\n",
    "            p=False\n",
    "    return p\n",
    "\n",
    "n=int(input(\"ingrese primer numero: \"))\n",
    "m=int(input(\"ingrese segundo numero: \"))\n",
    "print(\"primer - segundo = \"+str(n-m))\n",
    "if primo(abs(n-m)):\n",
    "    print(\"es primo\")\n",
    "else:\n",
    "    print(\"No es primo\")\n",
    "        \n",
    "    "
   ]
  },
  {
   "cell_type": "raw",
   "metadata": {},
   "source": [
    "3. Iterar a través de los primeros cien enteros positivos, buscando los múltiplos de 3 e imprimiendo y almacenándolos en\n",
    "una lista hasta encontrar los primeros 15 de ellos. Una vez encontrados, continuar iterando en busca de los múltiplos\n",
    "de 4 y almacenarlos en otra lista."
   ]
  },
  {
   "cell_type": "code",
   "execution_count": 2,
   "metadata": {},
   "outputs": [
    {
     "name": "stdout",
     "output_type": "stream",
     "text": [
      "3\n",
      "6\n",
      "9\n",
      "12\n",
      "15\n",
      "18\n",
      "21\n",
      "24\n",
      "27\n",
      "30\n",
      "33\n",
      "36\n",
      "39\n",
      "42\n",
      "45\n",
      "48\n",
      "52\n",
      "56\n",
      "60\n",
      "64\n",
      "68\n",
      "72\n",
      "76\n",
      "80\n",
      "84\n",
      "88\n",
      "92\n",
      "96\n"
     ]
    }
   ],
   "source": [
    "m3=[]\n",
    "m4=[]\n",
    "for i in range(1,100):\n",
    "\tif len(m3)>=15:\n",
    "\t\tif i%4==0:\n",
    "\t\t\tm4.append(i)\n",
    "\t\t\tprint(i)\n",
    "\telse:\n",
    "\t\tif i%3==0:\n",
    "\t\t\tm3.append(i)\n",
    "\t\t\tprint(i)"
   ]
  },
  {
   "cell_type": "raw",
   "metadata": {},
   "source": [
    "4. Hacer un programa que lea las coordenadas (x1,y1,r1) y (x2,y2,r2) que corresponden al centro y al radio de dos círculos.\n",
    "Lea un punto de coordenadas (a,b). Determinar si (a,b) está contenido: a) dentro del círculo 1; b) dentro del círculo 2;\n",
    "c) dentro de ambos círculos; d) fuera de ambos círculos. Recordemos que el círculo es el lugar geométrico de los puntos\n",
    "del plano cuya distancia a otro punto fijo, llamado centro, es menor o igual que una cantidad constante, llamada radio.\n"
   ]
  },
  {
   "cell_type": "code",
   "execution_count": 7,
   "metadata": {},
   "outputs": [
    {
     "name": "stdout",
     "output_type": "stream",
     "text": [
      "ingrese valor de x1: 0\n",
      "ingrese valor de y1: 0\n",
      "ingrese valor de r1: 1\n",
      "ingrese valor de x2: 1\n",
      "ingrese valor de y2: 1\n",
      "ingrese valor de r2: 1\n",
      "ingrese punto a buscar separados por coma (x,y): 1,1\n",
      "esta solo en el circulo 2\n",
      "desea buscar con otro punto? s/ns\n",
      "ingrese punto a buscar separados por coma (x,y): 0,0\n",
      "esta solo en el circulo 1\n",
      "desea buscar con otro punto? s/ns\n",
      "ingrese punto a buscar separados por coma (x,y): 3,3\n",
      "no esta en ninguno de los circulos\n",
      "desea buscar con otro punto? s/nn\n"
     ]
    }
   ],
   "source": [
    "import math\n",
    "def esta(x,y,r,n,m):\n",
    "    d=math.sqrt(math.pow(x-n,2)+math.pow(y-m,2))\n",
    "    if d>r:\n",
    "        return False\n",
    "    else:\n",
    "        return True\n",
    "    \n",
    "x1=float(input(\"ingrese valor de x1: \"))\n",
    "y1=float(input(\"ingrese valor de y1: \"))\n",
    "r1=float(input(\"ingrese valor de r1: \"))\n",
    "x2=float(input(\"ingrese valor de x2: \"))\n",
    "y2=float(input(\"ingrese valor de y2: \"))\n",
    "r2=float(input(\"ingrese valor de r2: \"))\n",
    "while(True):\n",
    "    n,m=input(\"ingrese punto a buscar separados por coma (x,y): \").split(\",\")\n",
    "    n=int(n)\n",
    "    m=int(m)\n",
    "    c1=esta(x1,y1,r1,n,m)\n",
    "    c2=esta(x2,y2,r2,n,m)\n",
    "    if c1:\n",
    "        if c2:\n",
    "            print(\"esta en ambos circulos\")\n",
    "        else:\n",
    "            print(\"esta solo en el circulo 1\")\n",
    "    else:\n",
    "        if c2:\n",
    "            print(\"esta solo en el circulo 2\")\n",
    "        else:\n",
    "            print(\"no esta en ninguno de los circulos\")\n",
    "    resp=input(\"desea buscar con otro punto? s/n\")\n",
    "    if resp==\"n\":\n",
    "        break\n",
    "            \n",
    "    "
   ]
  },
  {
   "cell_type": "raw",
   "metadata": {},
   "source": [
    "5. Escribir un programa que reciba una cadena de texto y reporte:\n",
    "a) cuántas letras vocales en mayúscula se entraron;\n",
    "b) cuántas letras con tilde se entraron (minúsculas y mayúsculas);\n",
    "c) cuántos dígitos se entraron,\n",
    "d) cuántos espacios se entraron;\n",
    "e) cuántas palabras reservadas se entraron. "
   ]
  },
  {
   "cell_type": "code",
   "execution_count": 6,
   "metadata": {},
   "outputs": [
    {
     "name": "stdout",
     "output_type": "stream",
     "text": [
      "ingrese cadena de texto: hola, sí HAY 8 vasos in in i\n",
      "se ingresaron 1 letras vocales en mayúscula\n",
      "se ingresaron 1 letras con tilde\n",
      "se ingresaron 1 digitos\n",
      "se ingresaron 7 espacios\n",
      "la palabra in estaba 2 veces\n"
     ]
    }
   ],
   "source": [
    "def countin(cad):\n",
    "    c=0\n",
    "    for i in range(len(cad)):\n",
    "        if cad[i]==\"i\" and i<len(cad)-1 and cad[i+1]==\"n\":\n",
    "            c+=1\n",
    "    return c\n",
    "                \n",
    "            \n",
    "            \n",
    "    \n",
    "cad=input(\"ingrese cadena de texto: \")\n",
    "a=0\n",
    "b=0\n",
    "c=0\n",
    "d=0\n",
    "e=0\n",
    "for i in cad:\n",
    "    if i in \"AEIOUÁÉÍÓÚ\":\n",
    "        a+=1\n",
    "    if i in \"áéíóúÁÉÍÓÚ\":\n",
    "        b+=1\n",
    "    if i.isdigit():\n",
    "        c+=1\n",
    "    if i in \" \":\n",
    "        d+=1\n",
    "e=countin(cad)\n",
    "print(\"se ingresaron \"+str(a)+\" letras vocales en mayúscula\")\n",
    "print(\"se ingresaron \"+str(b)+\" letras con tilde\")\n",
    "print(\"se ingresaron \"+str(c)+\" digitos\")\n",
    "print(\"se ingresaron \"+str(d)+\" espacios\")\n",
    "print(\"la palabra in esta \"+str(e)+\" veces\")"
   ]
  },
  {
   "cell_type": "raw",
   "metadata": {},
   "source": [
    "6. Leer una cadena de texto y organizar alfabéticamente cada una de las letras que la componen, repitiendo cada una\n",
    "tantas veces como se encuentra. Por ejemplo, la cadena ‘tarea importante’ será ‘aaaeeimnoprrttt’. (Note que no se\n",
    "incluyen los espacios)."
   ]
  },
  {
   "cell_type": "code",
   "execution_count": 11,
   "metadata": {},
   "outputs": [
    {
     "name": "stdout",
     "output_type": "stream",
     "text": [
      "ingrese cadena: tarea importante\n",
      "aaaeeimnoprrttt\n",
      "16\n",
      "15\n"
     ]
    }
   ],
   "source": [
    "cad=input(\"ingrese cadena: \")\n",
    "cad=list(cad)\n",
    "cad.sort()\n",
    "ncad=\"\"\n",
    "for i in cad:\n",
    "    if i!=\" \":\n",
    "     ncad+=i\n",
    "print(ncad)"
   ]
  },
  {
   "cell_type": "raw",
   "metadata": {},
   "source": [
    "7. Leer una lista de números ya ordenados de forma ascendente y verificar que dicha lista está ordenada. Luego, leer\n",
    "un número e insertarlo en la lista en la posición que le corresponde a dicho número."
   ]
  },
  {
   "cell_type": "code",
   "execution_count": 20,
   "metadata": {},
   "outputs": [
    {
     "name": "stdout",
     "output_type": "stream",
     "text": [
      "ingrese lista separada por espacio: 1 2\n",
      "ingrese valor a insertar:3\n",
      "[1, 2, 3]\n"
     ]
    }
   ],
   "source": [
    "l=input(\"ingrese lista separada por espacio: \").split()\n",
    "ord=True\n",
    "for i in range(len(l)):\n",
    "    l[i]=int(l[i])\n",
    "    if i>0:\n",
    "        if l[i]>=l[i-1]:\n",
    "            ord=ord and True\n",
    "        else:\n",
    "            ord=False\n",
    "if ord:\n",
    "    ins=int(input(\"ingrese valor a insertar:\"))\n",
    "    t=len(l)\n",
    "    for i in range(t):\n",
    "        if l[i]>ins:\n",
    "            l.insert(i,ins)\n",
    "            break\n",
    "        if t==len(l):\n",
    "            l.append(ins)\n",
    "        \n",
    "        \n",
    "print(l)\n",
    "        \n"
   ]
  },
  {
   "cell_type": "raw",
   "metadata": {},
   "source": [
    "8. Leer una lista de números enteros y determinar cual es el segundo elemento mayor de dicha lista. No utilizar ningún\n",
    "tipo de algoritmo de ordenamiento para realizar este ejercicio. Por ejemplo, en la lista [11, 22, 3, 4, 22], el\n",
    "segundo número mayor sería el 11; de otro lado, en la lista [1, 1, 1, 1, 1] no existe un segundo elemento\n",
    "mayor."
   ]
  },
  {
   "cell_type": "code",
   "execution_count": 9,
   "metadata": {},
   "outputs": [
    {
     "name": "stdout",
     "output_type": "stream",
     "text": [
      "ingrese lista separada por espacio: 11 22 3 4 22\n",
      "el segundo mayor es:11\n"
     ]
    }
   ],
   "source": [
    "l=input(\"ingrese lista separada por espacio: \").split()\n",
    "my=int(l[0])\n",
    "my2=my\n",
    "\n",
    "for i in range(2,len(l)):\n",
    "    l[i]=int(l[i])\n",
    "    if l[i]>my:\n",
    "        my2=my\n",
    "        my=l[i]\n",
    "    elif l[i]>my2:\n",
    "        my2=l[i]\n",
    "if my2==my:\n",
    "    print(\"no hay segundo mayor\")\n",
    "else:\n",
    "    print(\"el segundo mayor es:\"+str(my2))\n",
    "\n",
    "        "
   ]
  },
  {
   "cell_type": "raw",
   "metadata": {},
   "source": [
    "9. Escribir un programa que calcule términos de la sucesión Un+1 = 3 Un + 1 si Un es impar y U n+1 = Un / 2 si Un es par. El\n",
    "programa tiene que pedir el término U0 y el número de términos a calcular."
   ]
  },
  {
   "cell_type": "code",
   "execution_count": 12,
   "metadata": {},
   "outputs": [
    {
     "name": "stdout",
     "output_type": "stream",
     "text": [
      "ingrese U(0): 7\n",
      "ingrese la cantidad de valores a calcular: 20\n",
      "los terminos son: \n",
      "[7, 22, 11, 34, 17, 52, 26, 13, 40, 20, 10, 5, 16, 8, 4, 2, 1, 4, 2, 1]\n"
     ]
    }
   ],
   "source": [
    "u=[]\n",
    "u.append(int(input(\"ingrese U(0): \")))\n",
    "t=int(input(\"ingrese la cantidad de valores a calcular: \"))\n",
    "for i in range(1,t):\n",
    "    if u[i-1]%2==0:\n",
    "        u.append(int(u[i-1]/2))\n",
    "    else:\n",
    "        u.append(3*u[i-1]+1)\n",
    "print(\"los terminos son: \")\n",
    "print(u)\n",
    "    \n",
    "    "
   ]
  },
  {
   "cell_type": "raw",
   "metadata": {},
   "source": [
    "10. Leer una matriz e imprimir el vector que aparece cuando la matriz se desenreda en forma de espiral que gira en el\n",
    "sentido horario a partir de la esquina inferior derecha."
   ]
  },
  {
   "cell_type": "code",
   "execution_count": 23,
   "metadata": {},
   "outputs": [
    {
     "name": "stdout",
     "output_type": "stream",
     "text": [
      "ingrese numero de filas: 4\n",
      "ingrese numero de columnas: 5\n",
      "ingrese fila1separada por espacio: 59 99 95 12 88\n",
      "ingrese fila2separada por espacio: 63 32 49 4 73\n",
      "ingrese fila3separada por espacio: 40 28 62 78 6\n",
      "ingrese fila4separada por espacio: 45 63 51 85 26\n",
      "el vector es:['26', '85', '51', '63', '45', '40', '63', '59', '99', '95', '12', '88', '73', '6', '78', '62', '28', '32', '49', '4']\n"
     ]
    }
   ],
   "source": [
    "def mespiral(m,f,c,l):\n",
    "    fp=f\n",
    "    cp=c\n",
    "    df=len(m)-1-fp\n",
    "    dc=len(m[0])-1-cp\n",
    "    while c>dc:\n",
    "        l.append(m[f][c])\n",
    "        c-=1\n",
    "    while f>df:\n",
    "        l.append(m[f][c])\n",
    "        f-=1\n",
    "    while c<cp:\n",
    "        l.append(m[f][c])\n",
    "        c+=1\n",
    "    while f<fp:\n",
    "        l.append(m[f][c])\n",
    "        f+=1\n",
    "    if len(l)<len(m)*len(m[0]):\n",
    "        mespiral(m,fp-1,cp-1,l)\n",
    "        \n",
    "        \n",
    "    \n",
    "        \n",
    "    \n",
    "f=int(input(\"ingrese numero de filas: \"))\n",
    "c=int(input(\"ingrese numero de columnas: \"))\n",
    "m=[]\n",
    "l=[]\n",
    "for i in range(f):\n",
    "    mal=True\n",
    "    while(mal):\n",
    "        fila=input(\"ingrese fila\"+str(i+1)+\"separada por espacio: \").split()\n",
    "        if len(fila)==c:\n",
    "            m.append(fila)\n",
    "            mal=False\n",
    "        else:\n",
    "            print(\"cantidad de columnas incorrecta, reintente!!\")\n",
    "\n",
    "mespiral(m,f-1,c-1,l)\n",
    "print(\"el vector es:\"+str(l))\n",
    "    "
   ]
  },
  {
   "cell_type": "raw",
   "metadata": {},
   "source": [
    "11. Diseñar una función de tres parámetros que pida la altura y anchura de un rectángulo, y el carácter a utilizar para dibujarlo. "
   ]
  },
  {
   "cell_type": "code",
   "execution_count": 5,
   "metadata": {},
   "outputs": [
    {
     "name": "stdout",
     "output_type": "stream",
     "text": [
      "..........\n",
      ".        .\n",
      ".        .\n",
      ".        .\n",
      ".        .\n",
      ".        .\n",
      ".        .\n",
      "..........\n"
     ]
    }
   ],
   "source": [
    "def dibrect(alt,anch,car):\n",
    "    print(anch*car)\n",
    "    a=''\n",
    "    for i in range(anch):\n",
    "        if i==0 or i==anch-1:\n",
    "            a+=car\n",
    "        else:\n",
    "            a+=' '\n",
    "    for i in range(alt-2):\n",
    "        print(a)\n",
    "    print(anch*car)\n",
    "###prueba\n",
    "dibrect(8,10,'.')"
   ]
  },
  {
   "cell_type": "raw",
   "metadata": {},
   "source": [
    "12. Diseñar una función que pida la anchura de un triángulo y lo dibuje con caracteres producto (*). "
   ]
  },
  {
   "cell_type": "code",
   "execution_count": 18,
   "metadata": {},
   "outputs": [
    {
     "name": "stdout",
     "output_type": "stream",
     "text": [
      "  *  \n",
      " * * \n",
      "*****\n",
      "  **  \n",
      " *  * \n",
      "******\n"
     ]
    }
   ],
   "source": [
    "def dibtriang(anch):\n",
    "    if anch%2==0:\n",
    "        pl=anch/2\n",
    "        pr=pl+1\n",
    "    else:\n",
    "        pr=int(anch/2+1)\n",
    "        pl=pr\n",
    "    while pl>1:\n",
    "        b=''\n",
    "        for i in range(anch):\n",
    "            if i==pr-1 or i==pl-1:\n",
    "                b+=\"*\"\n",
    "            else:\n",
    "                b+=\" \"\n",
    "                \n",
    "        print(b)\n",
    "        pl-=1\n",
    "        pr+=1\n",
    "    print(anch*'*')\n",
    "#prueba\n",
    "dibtriang(5)\n",
    "dibtriang(6)\n",
    "        "
   ]
  },
  {
   "cell_type": "raw",
   "metadata": {},
   "source": [
    "13. Diseñar una función que pida dos años y escriba cuántos años bisiestos hay entre esas dos fechas (incluidos los dos años). "
   ]
  },
  {
   "cell_type": "code",
   "execution_count": 19,
   "metadata": {},
   "outputs": [
    {
     "name": "stdout",
     "output_type": "stream",
     "text": [
      "4\n"
     ]
    }
   ],
   "source": [
    "def bisies(ain,afin):\n",
    "    c=0\n",
    "    for i in range(ain,afin+1):\n",
    "        if i%400==0:\n",
    "            c+=1\n",
    "        elif i%4==0 and i%100!=0:\n",
    "            c+=1\n",
    "    return c\n",
    "#prueba\n",
    "print(bisies(2000,2012))\n",
    "            \n",
    "            \n",
    "        "
   ]
  },
  {
   "cell_type": "raw",
   "metadata": {},
   "source": [
    "14. Diseñar una función que proponga sumas de números positivos (dos números entre 1 y 100) al usuario y compruebe la respuesta. El programa continuará hasta que se acierten cinco sumas. (Tip: para generar los números enteros aleatorios, existe la función random.randint(a,b) de la librería random)."
   ]
  },
  {
   "cell_type": "code",
   "execution_count": 1,
   "metadata": {},
   "outputs": [
    {
     "name": "stdout",
     "output_type": "stream",
     "text": [
      "Caunto es la suma de 24 + 98 ? 122\n",
      "Caunto es la suma de 36 + 28 ? 64\n",
      "Caunto es la suma de 76 + 20 ? 96\n",
      "Caunto es la suma de 88 + 79 ? 167\n",
      "Caunto es la suma de 9 + 83 ? 92\n"
     ]
    }
   ],
   "source": [
    "import random\n",
    "c=0\n",
    "while c<5:\n",
    "    a=random.randint(1,101)\n",
    "    b=random.randint(1,101)\n",
    "    d=int(input(\"Cuanto es la suma de \"+str(a)+\" + \"+str(b)+\"? \"))\n",
    "    if d==a+b:\n",
    "        c+=1"
   ]
  },
  {
   "cell_type": "raw",
   "metadata": {},
   "source": [
    "15. Diseñar una función que permita jugar a una versión simplificada del juego Master Mind. El juego consistirá en adivinar una cadena de números distintos. La función debe pedir la longitud de la cadena (de 2 a 9 cifras) y generar aleatoriamente un número con esta cantidad de cifras; después el programa debe ir pidiendo que intente adivinar la cadena de números. En cada intento, el programa informará de cuántos números han sido acertados (el programa considerará que se ha acertado un número si coincide el valor y la posición). "
   ]
  },
  {
   "cell_type": "code",
   "execution_count": 2,
   "metadata": {},
   "outputs": [
    {
     "name": "stdout",
     "output_type": "stream",
     "text": [
      "intente adivinar la cadena: (solo se tomaran los primeros 4) 1234\n",
      "ha acertado 0 valores\n",
      "intente adivinar la cadena: (solo se tomaran los primeros 4) 5678\n",
      "ha acertado 0 valores\n",
      "intente adivinar la cadena: (solo se tomaran los primeros 4) 9012\n",
      "ha acertado 1 valores\n",
      "intente adivinar la cadena: (solo se tomaran los primeros 4) 0012\n",
      "ha acertado 0 valores\n",
      "intente adivinar la cadena: (solo se tomaran los primeros 4) 9123\n",
      "ha acertado 1 valores\n",
      "intente adivinar la cadena: (solo se tomaran los primeros 4) 9456\n",
      "ha acertado 1 valores\n",
      "intente adivinar la cadena: (solo se tomaran los primeros 4) 9876\n",
      "ha acertado 2 valores\n",
      "intente adivinar la cadena: (solo se tomaran los primeros 4) 9076\n",
      "ha acertado 1 valores\n",
      "intente adivinar la cadena: (solo se tomaran los primeros 4) 9865\n",
      "ha acertado 2 valores\n",
      "intente adivinar la cadena: (solo se tomaran los primeros 4) 9833\n",
      "ha acertado 2 valores\n",
      "intente adivinar la cadena: (solo se tomaran los primeros 4) 9888\n",
      "ha acertado 2 valores\n",
      "intente adivinar la cadena: (solo se tomaran los primeros 4) 9812\n",
      "ha acertado 2 valores\n",
      "intente adivinar la cadena: (solo se tomaran los primeros 4) 9879\n",
      "ha acertado 2 valores\n",
      "intente adivinar la cadena: (solo se tomaran los primeros 4) 9845\n",
      "ha acertado 3 valores\n",
      "intente adivinar la cadena: (solo se tomaran los primeros 4) 9805\n",
      "ha acertado 2 valores\n",
      "intente adivinar la cadena: (solo se tomaran los primeros 4) 9841\n",
      "ha acertado 3 valores\n",
      "intente adivinar la cadena: (solo se tomaran los primeros 4) 9842\n",
      "ha acertado 3 valores\n",
      "intente adivinar la cadena: (solo se tomaran los primeros 4) 9843\n",
      "ha acertado 3 valores\n",
      "intente adivinar la cadena: (solo se tomaran los primeros 4) 9844\n",
      "ha acertado 3 valores\n",
      "intente adivinar la cadena: (solo se tomaran los primeros 4) 9845\n",
      "ha acertado 3 valores\n",
      "intente adivinar la cadena: (solo se tomaran los primeros 4) 9846\n",
      "ha acertado 3 valores\n",
      "intente adivinar la cadena: (solo se tomaran los primeros 4) 9847\n",
      "ha acertado 3 valores\n",
      "intente adivinar la cadena: (solo se tomaran los primeros 4) 9849\n",
      "ha acertado 3 valores\n",
      "intente adivinar la cadena: (solo se tomaran los primeros 4) 9848\n",
      "ha acertado 3 valores\n",
      "intente adivinar la cadena: (solo se tomaran los primeros 4) 9840\n",
      "ha acertado 4 valores\n",
      "Felicidades ha completado correctamente el juego, la cadena era: 9840\n"
     ]
    }
   ],
   "source": [
    "import random\n",
    "def masmind(l):\n",
    "    if l<2 or l>9:\n",
    "        print(\"error\")\n",
    "        return 0\n",
    "    cad=''\n",
    "    for i in range(l):\n",
    "        cad+=str(random.randint(0,10))\n",
    "    na=0\n",
    "    while na!=l:\n",
    "        na=0\n",
    "        adv=input(\"intente adivinar la cadena: (solo se tomaran los primeros \"+ str(l)+\") \")\n",
    "        for i in range(l):\n",
    "            if adv[i]==cad[i]:\n",
    "                na+=1\n",
    "        print(\"ha acertado \"+str(na)+\" valores\")\n",
    "    print(\"Felicidades ha completado correctamente el juego, la cadena era: \"+cad)\n",
    "#prueba\n",
    "masmind(4)"
   ]
  },
  {
   "cell_type": "code",
   "execution_count": null,
   "metadata": {},
   "outputs": [],
   "source": []
  }
 ],
 "metadata": {
  "kernelspec": {
   "display_name": "Python 3",
   "language": "python",
   "name": "python3"
  },
  "language_info": {
   "codemirror_mode": {
    "name": "ipython",
    "version": 3
   },
   "file_extension": ".py",
   "mimetype": "text/x-python",
   "name": "python",
   "nbconvert_exporter": "python",
   "pygments_lexer": "ipython3",
   "version": "3.7.3"
  }
 },
 "nbformat": 4,
 "nbformat_minor": 2
}
